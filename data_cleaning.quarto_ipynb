{
  "cells": [
    {
      "cell_type": "markdown",
      "metadata": {},
      "source": [
        "---\n",
        "title: \"Data Analysis\"\n",
        "subtitle: \"Comprehensive Data Cleaning & Exploratory Analysis of Job Market Trends\"\n",
        "author:\n",
        "  - name: Yixuan Yang\n",
        "    affiliations:\n",
        "      - id: bu\n",
        "        name: Boston University\n",
        "        city: Boston\n",
        "        state: MA\n",
        "  - name: Arohit Talari\n",
        "    affiliations:\n",
        "      - ref: bu\n",
        "  - name: Chengjie Lu\n",
        "    affiliations:\n",
        "      - ref: bu\n",
        "\n",
        "bibliography: references.bib\n",
        "csl: csl/econometrica.csl\n",
        "format: \n",
        "  html:\n",
        "    toc: true\n",
        "    number-sections: true\n",
        "    df-print: paged\n",
        "    code: false\n",
        "    code-tools: true\n",
        "    section-divs: true\n",
        "---\n",
        "\n",
        "# Data Preparation and Cleaning "
      ],
      "id": "664847c3"
    },
    {
      "cell_type": "code",
      "metadata": {},
      "source": [
        "#| echo: false\n",
        "import pandas as pd\n",
        "import seaborn as sns\n",
        "import matplotlib.pyplot as plt\n",
        "import plotly.express as px\n",
        "import plotly.offline as pyo\n",
        "import plotly.io as pio\n",
        "import os"
      ],
      "id": "6de952b5",
      "execution_count": null,
      "outputs": []
    },
    {
      "cell_type": "code",
      "metadata": {},
      "source": [
        "#| echo: false\n",
        "data = pd.read_csv(\"files/lightcast_job_postings_new.csv\")"
      ],
      "id": "b06f7e4d",
      "execution_count": null,
      "outputs": []
    },
    {
      "cell_type": "code",
      "metadata": {},
      "source": [
        "columns_to_drop = [\n",
        "   \"ID\", \"URL\", \"ACTIVE_URLS\", \"DUPLICATES\", \"LAST_UPDATED_TIMESTAMP\",\n",
        "    \"NAICS2\", \"NAICS3\", \"NAICS4\", \"NAICS5\", \"NAICS6\",\n",
        "    \"SOC_2\", \"SOC_2_NAME\", \"SOC_3\", \"SOC_3_NAME\", \"SOC_4\", \"SOC_4_NAME\", \"SOC_5\", \"SOC_5_NAME\", \"SOC_2021_2\", \"SOC_2021_2_NAME\", \"SOC_2021_3\", \"SOC_2021_3_NAME\", \"SOC_2021_5\", \"SOC_2021_5_NAME\",\n",
        "    'NAICS_2022_2', 'NAICS_2022_2_NAME', 'NAICS_2022_3',\n",
        "       'NAICS_2022_3_NAME', 'NAICS_2022_4', 'NAICS_2022_4_NAME','NAICS_2022_5', 'NAICS_2022_5_NAME', 'SOC_2_NAME', 'SOC_3_NAME', 'SOC_4', 'SOC_4_NAME', 'SOC_5_NAME'\n",
        "]\n",
        "data_drop = data.drop(columns=columns_to_drop)"
      ],
      "id": "965f0e2e",
      "execution_count": null,
      "outputs": []
    },
    {
      "cell_type": "code",
      "metadata": {},
      "source": [
        "#| echo: false\n",
        "figures_folder = \"figures\"\n",
        "if not os.path.exists(figures_folder):\n",
        "    os.makedirs(figures_folder)\n",
        "#pd.set_option('display.max_rows', None)\n",
        "#pd.set_option('display.max_columns', None)\n",
        "#data_drop.columns"
      ],
      "id": "3d28a3fe",
      "execution_count": null,
      "outputs": []
    },
    {
      "cell_type": "code",
      "metadata": {},
      "source": [
        "#Replace salary with median\n",
        "salary_median = data_drop['SALARY'].median()\n",
        "salary_to_median = data_drop['SALARY_TO'].median()\n",
        "salary_from_median = data_drop['SALARY_FROM'].median()\n",
        "data_drop['SALARY'] = data_drop['SALARY'].fillna(salary_median)\n",
        "data_drop['SALARY_TO'] = data_drop['SALARY_TO'].fillna(salary_to_median)\n",
        "data_drop['SALARY_FROM'] = data_drop['SALARY_FROM'].fillna(salary_from_median)"
      ],
      "id": "7660519c",
      "execution_count": null,
      "outputs": []
    },
    {
      "cell_type": "code",
      "metadata": {},
      "source": [
        "#Replace NA Values with 0 and -1\n",
        "data_drop['MIN_YEARS_EXPERIENCE'] = data_drop['MIN_YEARS_EXPERIENCE'].fillna(0)\n",
        "data_drop['DURATION'] = data_drop['DURATION'].fillna(-1)\n",
        "data_drop['MODELED_DURATION'] = data_drop['MODELED_DURATION'].fillna(-1)"
      ],
      "id": "d6f2fda6",
      "execution_count": null,
      "outputs": []
    },
    {
      "cell_type": "code",
      "metadata": {},
      "source": [
        "#Replace Missing Dates with Reasonable Values, and convert to date time format\n",
        "data_drop['POSTED'] = pd.to_datetime(data['POSTED'], errors='coerce')\n",
        "data_drop['EXPIRED'] = pd.to_datetime(data['EXPIRED'], errors='coerce')\n",
        "data_drop['LAST_UPDATED_DATE'] = pd.to_datetime(data['LAST_UPDATED_DATE'], errors='coerce')\n",
        "data_drop['MODELED_EXPIRED'] = pd.to_datetime(data_drop['MODELED_EXPIRED'], errors='coerce')\n",
        "\n",
        "data_drop['EXPIRED'] = data_drop['EXPIRED'].fillna(pd.to_datetime('2100-12-31'))\n",
        "data_drop['MODELED_EXPIRED'] = data_drop['MODELED_EXPIRED'].fillna(pd.to_datetime('2100-12-31'))"
      ],
      "id": "b775c001",
      "execution_count": null,
      "outputs": []
    },
    {
      "cell_type": "code",
      "metadata": {},
      "source": [
        "#Handle the remaining missing values\n",
        "string_cols = data_drop.select_dtypes(include='object').columns\n",
        "data_drop[string_cols] = data_drop[string_cols].fillna(\"Unknown\")\n",
        "\n",
        "numeric_cols = data_drop.select_dtypes(include=['float64', 'int64']).columns\n",
        "data_drop[numeric_cols] = data_drop[numeric_cols].fillna(0)"
      ],
      "id": "bade732d",
      "execution_count": null,
      "outputs": []
    },
    {
      "cell_type": "code",
      "metadata": {},
      "source": [
        "#Remove Duplicates\n",
        "data_cleaned = data_drop.drop_duplicates(subset=[\"TITLE\", \"COMPANY\", \"LOCATION\", \"POSTED\"], keep=\"first\")"
      ],
      "id": "1e25a182",
      "execution_count": null,
      "outputs": []
    },
    {
      "cell_type": "code",
      "metadata": {},
      "source": [
        "data_cleaned[data_cleaned.isna().any(axis=1)]\n",
        "data_cleaned = data_cleaned.drop(index=478)"
      ],
      "id": "71db902c",
      "execution_count": null,
      "outputs": []
    },
    {
      "cell_type": "code",
      "metadata": {},
      "source": [
        "data_cleaned.isna().sum()"
      ],
      "id": "5bea6f20",
      "execution_count": null,
      "outputs": []
    },
    {
      "cell_type": "code",
      "metadata": {},
      "source": [
        "#| include: false\n",
        "folder = \"files\"\n",
        "file_name = \"cleaned_job_postings.csv\"\n",
        "file_path = os.path.join(folder, file_name)\n",
        "\n",
        "# Save the DataFrame to CSV in the files folder\n",
        "data_cleaned.to_csv(file_path, index=False)"
      ],
      "id": "244137a4",
      "execution_count": null,
      "outputs": []
    },
    {
      "cell_type": "markdown",
      "metadata": {},
      "source": [
        "# Data Visualization"
      ],
      "id": "fa8d4dbf"
    },
    {
      "cell_type": "code",
      "metadata": {},
      "source": [
        "#| echo: false\n",
        "industry_counts = data_cleaned[\"NAICS_2022_6_NAME\"].value_counts().head(11).reset_index()\n",
        "industry_counts.columns = ['Industry', 'Count']\n",
        "industry_counts = industry_counts[industry_counts['Industry'] != 'Unclassified Industry']\n",
        "\n",
        "fig = px.bar(industry_counts, x='Industry', y='Count', title=\"Top 10 Job Postings by Industry\")\n",
        "fig.update_layout(xaxis_tickangle=45, height=800, margin=dict(b=200))\n",
        "fig.write_html(os.path.join(figures_folder, \"industry_plot.html\"))"
      ],
      "id": "e087be0d",
      "execution_count": null,
      "outputs": []
    },
    {
      "cell_type": "markdown",
      "metadata": {},
      "source": [
        "<iframe src=\"figures/industry_plot.html\" width=\"100%\" height=\"500\"></iframe>\n"
      ],
      "id": "b9503c20"
    },
    {
      "cell_type": "code",
      "metadata": {},
      "source": [
        "#| echo: false\n",
        "print(\"The bar plot is used to display the top 10 highest number of job posting industries. \\nThe graph shows that computer related services are standing out, management services and employment placement agencies also have double the amount of job postings than others in this category.\")"
      ],
      "id": "7c5556e7",
      "execution_count": null,
      "outputs": []
    },
    {
      "cell_type": "code",
      "metadata": {},
      "source": [
        "#| echo: false\n",
        "top_industries = data_cleaned[\"NAICS_2022_6_NAME\"].value_counts().head(11).index\n",
        "filtered_data = data_cleaned[data_cleaned[\"NAICS_2022_6_NAME\"].isin(top_industries)]\n",
        "filtered_data = filtered_data[filtered_data['NAICS_2022_6_NAME'] != 'Unclassified Industry']\n",
        "\n",
        "fig = px.box(\n",
        "    filtered_data,\n",
        "    x=\"NAICS_2022_6_NAME\",\n",
        "    y=\"SALARY\",\n",
        "    title=\"Salary Distribution by Industry\",\n",
        "    labels={\"NAICS_2022_6_NAME\": \"Industry\", \"SALARY\": \"Salary\"},\n",
        "    points=\"outliers\",\n",
        "    category_orders={\"NAICS_2022_6_NAME\": top_industries}\n",
        ")\n",
        "\n",
        "\n",
        "fig.update_layout(\n",
        "    xaxis_tickangle=45,\n",
        "    xaxis_title=\"Top 10 Industries\",\n",
        "    yaxis_title=\"Salary ($)\",\n",
        "    height=700,\n",
        "    margin=dict(b=150)\n",
        ")\n",
        "\n",
        "fig.write_html(os.path.join(figures_folder, \"salary_distribution_by_industry.html\"))"
      ],
      "id": "7bfa0412",
      "execution_count": null,
      "outputs": []
    },
    {
      "cell_type": "markdown",
      "metadata": {},
      "source": [
        "<iframe src=\"figures/salary_distribution_by_industry.html\" width=\"100%\" height=\"500\"></iframe>\n"
      ],
      "id": "1b5186cb"
    },
    {
      "cell_type": "code",
      "metadata": {},
      "source": [
        "#| echo: false\n",
        "print(\"The box plot presents the salary distribution across the top 10 industries with the highest number of job postings. \\n\"\n",
        "      \"By reducing the number of categories and adjusting the axis labels, we improve readability.\")"
      ],
      "id": "ea1b4d81",
      "execution_count": null,
      "outputs": []
    },
    {
      "cell_type": "code",
      "metadata": {},
      "source": [
        "#| echo: false\n",
        "remote_counts = data_cleaned[\"REMOTE_TYPE_NAME\"].value_counts().reset_index()\n",
        "remote_counts.columns = [\"REMOTE_TYPE\", \"Count\"]\n",
        "remote_counts = remote_counts[remote_counts['REMOTE_TYPE'] != '[None]']\n",
        "\n",
        "\n",
        "fig = px.pie(\n",
        "    remote_counts,\n",
        "    names=\"REMOTE_TYPE\",\n",
        "    values=\"Count\",\n",
        "    title=\"Remote vs. On-Site Jobs\",\n",
        "    color=\"REMOTE_TYPE\",\n",
        "    color_discrete_map={\"Remote\": \"blue\", \"On-Site\": \"green\", \"Hybrid\": \"purple\"}\n",
        ")\n",
        "\n",
        "\n",
        "fig.update_traces(textinfo=\"percent+label\")\n",
        "fig.update_layout(height=400)\n",
        "\n",
        "fig.write_html(os.path.join(figures_folder, \"remote_vs_onsite_jobs.html\"))"
      ],
      "id": "4356adf1",
      "execution_count": null,
      "outputs": []
    },
    {
      "cell_type": "markdown",
      "metadata": {},
      "source": [
        "<iframe src=\"figures/remote_vs_onsite_jobs.html\" width=\"100%\" height=\"500\"></iframe>\n"
      ],
      "id": "a0fc8365"
    },
    {
      "cell_type": "code",
      "metadata": {},
      "source": [
        "#| echo: false\n",
        "print(\"The pie chart represents the distribution of remote, on-site, and hybrid job postings. \\n\"\n",
        "      \"It helps visualize the proportion of different work arrangements in the job market.\")"
      ],
      "id": "c2df275f",
      "execution_count": null,
      "outputs": []
    }
  ],
  "metadata": {
    "kernelspec": {
      "name": "python3",
      "language": "python",
      "display_name": "Python 3 (ipykernel)",
      "path": "/opt/anaconda3/share/jupyter/kernels/python3"
    }
  },
  "nbformat": 4,
  "nbformat_minor": 5
}