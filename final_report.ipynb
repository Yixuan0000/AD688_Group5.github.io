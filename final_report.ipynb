{
  "cells": [
    {
      "cell_type": "raw",
      "metadata": {},
      "source": [
        "---\n",
        "title: \"Evaluating Personal Job Market Prospects in 2024\"\n",
        "subtitle: \"Final Report\"\n",
        "author:\n",
        "  - name: Yixuan Yang\n",
        "    affiliations:\n",
        "      - name: Boston University\n",
        "        city: Boston\n",
        "        state: MA\n",
        "  - name: Chengjie Lu\n",
        "    affiliations:\n",
        "      - name: Boston University\n",
        "        city: Boston\n",
        "        state: MA\n",
        "  - name: Arohit Talari\n",
        "    affiliations:\n",
        "      - name: Boston University\n",
        "        city: Boston\n",
        "        state: MA\n",
        "date: today\n",
        "date-modified: today\n",
        "date-format: long\n",
        "format:\n",
        "  docx: default\n",
        "---"
      ],
      "id": "083cc82c"
    },
    {
      "cell_type": "raw",
      "metadata": {},
      "source": [
        "---\n",
        "title: \"Introduction\"\n",
        "---"
      ],
      "id": "1577a2bc"
    },
    {
      "cell_type": "markdown",
      "metadata": {},
      "source": [
        "## Background\n",
        "\n",
        "In recent years, the job market has undergone significant transformation driven by technological advancements and changes in work dynamics. As graduate students preparing to enter a competitive job landscape, understanding these trends and aligning our skills accordingly is critical.\n",
        "\n",
        "## Project Goal\n",
        "\n",
        "This project aims to assess personal job market readiness by analyzing industry trends, identifying skill gaps, and applying machine learning techniques to predict salary outcomes. Our ultimate objective is to propose personalized learning paths that enhance employability in the evolving market.\n",
        "\n",
        "## Methods Overview\n",
        "\n",
        "The project combines data cleaning, exploratory analysis, machine learning modeling, and skill assessment. Publicly available job posting data was used to explore patterns, build predictive models, and benchmark team capabilities against market expectations.\n"
      ],
      "id": "2736c33f"
    },
    {
      "cell_type": "raw",
      "metadata": {},
      "source": [
        "---\n",
        "title: \"Research Introduction\"\n",
        "---"
      ],
      "id": "fd20af9a"
    },
    {
      "cell_type": "markdown",
      "metadata": {},
      "source": [
        "## Research Questions\n",
        "\n",
        "1. Which industries are generating the highest number of job postings in 2024?\n",
        "2. How does salary distribution vary across industries and job types?\n",
        "3. What is the current skill gap between our team and the market demands?\n",
        "4. How can we use machine learning models to estimate job market value and identify important predictors?\n",
        "\n",
        "## Contribution\n",
        "\n",
        "By linking data-driven market insights with personalized upskilling recommendations, this project provides both a strategic career roadmap and a framework for future job market analytics."
      ],
      "id": "5b97fe24"
    },
    {
      "cell_type": "raw",
      "metadata": {},
      "source": [
        "---\n",
        "title: \"Data Analysis\"\n",
        "subtitle: \"Comprehensive Data Cleaning & Exploratory Analysis of Job Market Trends\"\n",
        "author:\n",
        "  - name: Yixuan Yang\n",
        "    affiliations:\n",
        "      - id: bu\n",
        "        name: Boston University\n",
        "        city: Boston\n",
        "        state: MA\n",
        "  - name: Arohit Talari\n",
        "    affiliations:\n",
        "      - ref: bu\n",
        "  - name: Chengjie Lu\n",
        "    affiliations:\n",
        "      - ref: bu\n",
        "\n",
        "bibliography: references.bib\n",
        "csl: csl/econometrica.csl\n",
        "format: \n",
        "  html:\n",
        "    toc: true\n",
        "    number-sections: true\n",
        "    df-print: paged\n",
        "    code: false\n",
        "    code-tools: true\n",
        "    section-divs: true\n",
        "---"
      ],
      "id": "c8f7adf0"
    },
    {
      "cell_type": "markdown",
      "metadata": {},
      "source": [
        "# Data Preparation and Cleaning "
      ],
      "id": "fdc74b91"
    },
    {
      "cell_type": "code",
      "metadata": {},
      "source": [
        "#| echo: false\n",
        "import pandas as pd\n",
        "import seaborn as sns\n",
        "import matplotlib.pyplot as plt\n",
        "import plotly.express as px\n",
        "import plotly.offline as pyo\n",
        "import plotly.io as pio\n",
        "import os"
      ],
      "id": "a7e014fa",
      "execution_count": null,
      "outputs": []
    },
    {
      "cell_type": "code",
      "metadata": {},
      "source": [
        "#| echo: false\n",
        "data = pd.read_csv(\"files/lightcast_job_postings_new.csv\")"
      ],
      "id": "f433ab38",
      "execution_count": null,
      "outputs": []
    },
    {
      "cell_type": "code",
      "metadata": {},
      "source": [
        "columns_to_drop = [\n",
        "   \"ID\", \"URL\", \"ACTIVE_URLS\", \"DUPLICATES\", \"LAST_UPDATED_TIMESTAMP\",\n",
        "    \"NAICS2\", \"NAICS3\", \"NAICS4\", \"NAICS5\", \"NAICS6\",\n",
        "    \"SOC_2\", \"SOC_2_NAME\", \"SOC_3\", \"SOC_3_NAME\", \"SOC_4\", \"SOC_4_NAME\", \"SOC_5\", \"SOC_5_NAME\", \"SOC_2021_2\", \"SOC_2021_2_NAME\", \"SOC_2021_3\", \"SOC_2021_3_NAME\", \"SOC_2021_5\", \"SOC_2021_5_NAME\",\n",
        "    'NAICS_2022_2', 'NAICS_2022_2_NAME', 'NAICS_2022_3',\n",
        "       'NAICS_2022_3_NAME', 'NAICS_2022_4', 'NAICS_2022_4_NAME','NAICS_2022_5', 'NAICS_2022_5_NAME', 'SOC_2_NAME', 'SOC_3_NAME', 'SOC_4', 'SOC_4_NAME', 'SOC_5_NAME'\n",
        "]\n",
        "data_drop = data.drop(columns=columns_to_drop)"
      ],
      "id": "e492dae3",
      "execution_count": null,
      "outputs": []
    },
    {
      "cell_type": "code",
      "metadata": {},
      "source": [
        "#| echo: false\n",
        "figures_folder = \"figures\"\n",
        "if not os.path.exists(figures_folder):\n",
        "    os.makedirs(figures_folder)\n",
        "#pd.set_option('display.max_rows', None)\n",
        "#pd.set_option('display.max_columns', None)\n",
        "#data_drop.columns"
      ],
      "id": "43b1782f",
      "execution_count": null,
      "outputs": []
    },
    {
      "cell_type": "code",
      "metadata": {},
      "source": [
        "#Replace salary with median\n",
        "salary_median = data_drop['SALARY'].median()\n",
        "salary_to_median = data_drop['SALARY_TO'].median()\n",
        "salary_from_median = data_drop['SALARY_FROM'].median()\n",
        "data_drop['SALARY'] = data_drop['SALARY'].fillna(salary_median)\n",
        "data_drop['SALARY_TO'] = data_drop['SALARY_TO'].fillna(salary_to_median)\n",
        "data_drop['SALARY_FROM'] = data_drop['SALARY_FROM'].fillna(salary_from_median)"
      ],
      "id": "29e0b1c4",
      "execution_count": null,
      "outputs": []
    },
    {
      "cell_type": "code",
      "metadata": {},
      "source": [
        "#Replace NA Values with 0 and -1\n",
        "data_drop['MIN_YEARS_EXPERIENCE'] = data_drop['MIN_YEARS_EXPERIENCE'].fillna(0)\n",
        "data_drop['DURATION'] = data_drop['DURATION'].fillna(-1)\n",
        "data_drop['MODELED_DURATION'] = data_drop['MODELED_DURATION'].fillna(-1)"
      ],
      "id": "e2357410",
      "execution_count": null,
      "outputs": []
    },
    {
      "cell_type": "code",
      "metadata": {},
      "source": [
        "#Replace Missing Dates with Reasonable Values, and convert to date time format\n",
        "data_drop['POSTED'] = pd.to_datetime(data['POSTED'], errors='coerce')\n",
        "data_drop['EXPIRED'] = pd.to_datetime(data['EXPIRED'], errors='coerce')\n",
        "data_drop['LAST_UPDATED_DATE'] = pd.to_datetime(data['LAST_UPDATED_DATE'], errors='coerce')\n",
        "data_drop['MODELED_EXPIRED'] = pd.to_datetime(data_drop['MODELED_EXPIRED'], errors='coerce')\n",
        "\n",
        "data_drop['EXPIRED'] = data_drop['EXPIRED'].fillna(pd.to_datetime('2100-12-31'))\n",
        "data_drop['MODELED_EXPIRED'] = data_drop['MODELED_EXPIRED'].fillna(pd.to_datetime('2100-12-31'))"
      ],
      "id": "c267c67c",
      "execution_count": null,
      "outputs": []
    },
    {
      "cell_type": "code",
      "metadata": {},
      "source": [
        "#Handle the remaining missing values\n",
        "string_cols = data_drop.select_dtypes(include='object').columns\n",
        "data_drop[string_cols] = data_drop[string_cols].fillna(\"Unknown\")\n",
        "\n",
        "numeric_cols = data_drop.select_dtypes(include=['float64', 'int64']).columns\n",
        "data_drop[numeric_cols] = data_drop[numeric_cols].fillna(0)"
      ],
      "id": "fd65a69c",
      "execution_count": null,
      "outputs": []
    },
    {
      "cell_type": "code",
      "metadata": {},
      "source": [
        "#Remove Duplicates\n",
        "data_cleaned = data_drop.drop_duplicates(subset=[\"TITLE\", \"COMPANY\", \"LOCATION\", \"POSTED\"], keep=\"first\")"
      ],
      "id": "4d90f996",
      "execution_count": null,
      "outputs": []
    },
    {
      "cell_type": "code",
      "metadata": {},
      "source": [
        "data_cleaned[data_cleaned.isna().any(axis=1)]\n",
        "data_cleaned = data_cleaned.drop(index=478)"
      ],
      "id": "f6057d18",
      "execution_count": null,
      "outputs": []
    },
    {
      "cell_type": "code",
      "metadata": {},
      "source": [
        "data_cleaned.isna().sum()"
      ],
      "id": "5b88ff42",
      "execution_count": null,
      "outputs": []
    },
    {
      "cell_type": "code",
      "metadata": {},
      "source": [
        "#| include: false\n",
        "folder = \"files\"\n",
        "file_name = \"cleaned_job_postings.csv\"\n",
        "file_path = os.path.join(folder, file_name)\n",
        "\n",
        "# Save the DataFrame to CSV in the files folder\n",
        "data_cleaned.to_csv(file_path, index=False)"
      ],
      "id": "59fa9ba5",
      "execution_count": null,
      "outputs": []
    },
    {
      "cell_type": "markdown",
      "metadata": {},
      "source": [
        "# Data Visualization"
      ],
      "id": "4fd3917a"
    },
    {
      "cell_type": "code",
      "metadata": {},
      "source": [
        "#| echo: false\n",
        "industry_counts = data_cleaned[\"NAICS_2022_6_NAME\"].value_counts().head(11).reset_index()\n",
        "industry_counts.columns = ['Industry', 'Count']\n",
        "industry_counts = industry_counts[industry_counts['Industry'] != 'Unclassified Industry']\n",
        "\n",
        "fig = px.bar(industry_counts, x='Industry', y='Count', title=\"Top 10 Job Postings by Industry\")\n",
        "fig.update_layout(xaxis_tickangle=45, height=800, margin=dict(b=200))\n",
        "fig.write_html(os.path.join(figures_folder, \"industry_plot.html\"))"
      ],
      "id": "34c36a31",
      "execution_count": null,
      "outputs": []
    },
    {
      "cell_type": "markdown",
      "metadata": {},
      "source": [
        "<iframe src=\"figures/industry_plot.html\" width=\"100%\" height=\"500\"></iframe>"
      ],
      "id": "05d53b53"
    },
    {
      "cell_type": "code",
      "metadata": {},
      "source": [
        "#| echo: false\n",
        "print(\"The bar plot is used to display the top 10 highest number of job posting industries. \\nThe graph shows that computer related services are standing out, management services and employment placement agencies also have double the amount of job postings than others in this category.\")"
      ],
      "id": "3cf129d1",
      "execution_count": null,
      "outputs": []
    },
    {
      "cell_type": "code",
      "metadata": {},
      "source": [
        "#| echo: false\n",
        "top_industries = data_cleaned[\"NAICS_2022_6_NAME\"].value_counts().head(11).index\n",
        "filtered_data = data_cleaned[data_cleaned[\"NAICS_2022_6_NAME\"].isin(top_industries)]\n",
        "filtered_data = filtered_data[filtered_data['NAICS_2022_6_NAME'] != 'Unclassified Industry']\n",
        "\n",
        "fig = px.box(\n",
        "    filtered_data,\n",
        "    x=\"NAICS_2022_6_NAME\",\n",
        "    y=\"SALARY\",\n",
        "    title=\"Salary Distribution by Industry\",\n",
        "    labels={\"NAICS_2022_6_NAME\": \"Industry\", \"SALARY\": \"Salary\"},\n",
        "    points=\"outliers\",\n",
        "    category_orders={\"NAICS_2022_6_NAME\": top_industries}\n",
        ")\n",
        "\n",
        "\n",
        "fig.update_layout(\n",
        "    xaxis_tickangle=45,\n",
        "    xaxis_title=\"Top 10 Industries\",\n",
        "    yaxis_title=\"Salary ($)\",\n",
        "    height=700,\n",
        "    margin=dict(b=150)\n",
        ")\n",
        "\n",
        "fig.write_html(os.path.join(figures_folder, \"salary_distribution_by_industry.html\"))"
      ],
      "id": "144c1969",
      "execution_count": null,
      "outputs": []
    },
    {
      "cell_type": "markdown",
      "metadata": {},
      "source": [
        "<iframe src=\"figures/salary_distribution_by_industry.html\" width=\"100%\" height=\"500\"></iframe>"
      ],
      "id": "be4406b3"
    },
    {
      "cell_type": "code",
      "metadata": {},
      "source": [
        "#| echo: false\n",
        "print(\"The box plot presents the salary distribution across the top 10 industries with the highest number of job postings. \\n\"\n",
        "      \"By reducing the number of categories and adjusting the axis labels, we improve readability.\")"
      ],
      "id": "755b60ca",
      "execution_count": null,
      "outputs": []
    },
    {
      "cell_type": "code",
      "metadata": {},
      "source": [
        "#| echo: false\n",
        "remote_counts = data_cleaned[\"REMOTE_TYPE_NAME\"].value_counts().reset_index()\n",
        "remote_counts.columns = [\"REMOTE_TYPE\", \"Count\"]\n",
        "remote_counts = remote_counts[remote_counts['REMOTE_TYPE'] != '[None]']\n",
        "\n",
        "\n",
        "fig = px.pie(\n",
        "    remote_counts,\n",
        "    names=\"REMOTE_TYPE\",\n",
        "    values=\"Count\",\n",
        "    title=\"Remote vs. On-Site Jobs\",\n",
        "    color=\"REMOTE_TYPE\",\n",
        "    color_discrete_map={\"Remote\": \"blue\", \"On-Site\": \"green\", \"Hybrid\": \"purple\"}\n",
        ")\n",
        "\n",
        "\n",
        "fig.update_traces(textinfo=\"percent+label\")\n",
        "fig.update_layout(height=400)\n",
        "\n",
        "fig.write_html(os.path.join(figures_folder, \"remote_vs_onsite_jobs.html\"))"
      ],
      "id": "a20b030b",
      "execution_count": null,
      "outputs": []
    },
    {
      "cell_type": "markdown",
      "metadata": {},
      "source": [
        "<iframe src=\"figures/remote_vs_onsite_jobs.html\" width=\"100%\" height=\"500\"></iframe>"
      ],
      "id": "edd427fc"
    },
    {
      "cell_type": "code",
      "metadata": {},
      "source": [
        "#| echo: false\n",
        "print(\"The pie chart represents the distribution of remote, on-site, and hybrid job postings. \\n\"\n",
        "      \"It helps visualize the proportion of different work arrangements in the job market.\")"
      ],
      "id": "2d6f50ff",
      "execution_count": null,
      "outputs": []
    },
    {
      "cell_type": "raw",
      "metadata": {},
      "source": [
        "---\n",
        "title: \"Exploratory Data Analysis\"\n",
        "subtitle: \"Enhanced Visuals\"\n",
        "\n",
        "bibliography: references.bib\n",
        "csl: csl/econometrica.csl\n",
        "format:\n",
        "  html:\n",
        "    toc: true\n",
        "    number-sections: true\n",
        "    df-print: paged\n",
        "    code: false\n",
        "    code-tools: true\n",
        "    code-fold: true\n",
        "    section-divs: true\n",
        "    theme: cosmo\n",
        "---"
      ],
      "id": "62db68e7"
    },
    {
      "cell_type": "markdown",
      "metadata": {},
      "source": [
        "# Top 10 Job Postings by Industry\n",
        "<iframe src=\"figures/industry_plot.html\" width=\"100%\" height=\"500\"></iframe>\n",
        "> The most frequently advertised job postings come from Custom Computer Programming Services, Accounting Services, and Employment Placement Agencies. These industries are consistently hiring across roles, suggesting a high demand for software developers, finance professionals, and recruiters. This indicates strong hiring momentum in tech and support functions.\n",
        "\n",
        "# Salary Distribution by Industry\n",
        "<iframe src=\"figures/salary_distribution_by_industry.html\" width=\"100%\" height=\"500\"></iframe>\n",
        "> Salary distribution varies widely across industries. While most sectors show a median salary between $80K and $120K, certain fields like Commercial Banking and Offices of Certified Public Accountants show higher outliers, indicating potential for high-earning roles. The variation within each industry also reflects differing job levels and skill demands.\n",
        "\n",
        "# Remote vs. On-Site Jobs\n",
        "<iframe src=\"figures/remote_vs_onsite_jobs.html\" width=\"100%\" height=\"500\"></iframe>\n",
        "> Over 78% of job postings offer remote work options, either fully or in hybrid mode. This highlights the growing normalization of flexible work arrangements post-pandemic. Only 7% of jobs are strictly on-site, indicating a permanent shift in job design and workplace expectations.\n",
        "\n",
        "# Team Skill Levels Heatmap\n",
        "<iframe src=\"figures/team_skill_levels_heatmap.html\" width=\"100%\" height=\"500\"></iframe>\n",
        "> The team demonstrates strong skill levels in Communication, Problem-Solving, and Teamwork, all scoring 5 across members. However, there are visible gaps in Machine Learning and Cloud Computing, particularly for Arohit. These gaps highlight potential areas for upskilling to align with industry demands in data and engineering roles.\n",
        "\n",
        "\n",
        "\n",
        "{{< embed skill_gap_analysis.qmd >}}\n",
        "\n",
        "\n",
        "\n",
        "\n",
        "{{< embed ml_methods.qmd >}}"
      ],
      "id": "8b1e2568"
    },
    {
      "cell_type": "raw",
      "metadata": {},
      "source": [
        "---\n",
        "title: \"ML Methods Summary\"\n",
        "---"
      ],
      "id": "0340ab3a"
    },
    {
      "cell_type": "markdown",
      "metadata": {},
      "source": [
        "## Multiple Linear Regression (MLR)\n",
        "\n",
        "We used MLR to examine the relationship between job attributes and salary. After feature engineering and one-hot encoding, the model achieved an $R^2$ of 0.87, indicating strong predictive ability. Key variables influencing salary included state, experience level, and educational background.\n",
        "\n",
        "## Random Forest Regressor\n",
        "\n",
        "To compare with a non-linear approach, we implemented a Random Forest Regressor. Despite its flexibility, the model achieved a lower $R^2$ of 0.25, highlighting its limitations with high-dimensional sparse data. Feature importance showed that skill count and experience dominated predictions.\n",
        "\n",
        "## Model Comparison\n",
        "\n",
        "| Metric        | MLR         | Random Forest |\n",
        "|---------------|-------------|----------------|\n",
        "| RMSE          | 77,772      | 63,755         |\n",
        "| R-squared     | 0.87        | 0.25           |\n",
        "\n",
        "MLR provided more reliable insights for interpreting salary trends, while Random Forest offered useful feature ranking.\n",
        "\n",
        "\n",
        "{{< embed nlp_methods.qmd >}}"
      ],
      "id": "73db465e"
    },
    {
      "cell_type": "raw",
      "metadata": {},
      "source": [
        "---\n",
        "title: \"Conclusion\"\n",
        "format:\n",
        "  html:\n",
        "    toc: true\n",
        "    number-sections: true\n",
        "    df-print: paged\n",
        "    code: false\n",
        "    code-tools: false\n",
        "    section-divs: true\n",
        "---"
      ],
      "id": "a1a57956"
    },
    {
      "cell_type": "markdown",
      "metadata": {},
      "source": [
        "# 1. Summary\n",
        "\n",
        "This project integrates market trend analysis, skill benchmarking, and machine learning modeling to assess personal job readiness. Through rigorous data exploration and predictive modeling, we uncovered several important insights:\n",
        "\n",
        "- **Industry Trends**: High demand is concentrated in the technology, consulting, and support service industries.\n",
        "- **Salary Drivers**: Salary disparities are largely influenced by years of experience, the number of skills possessed, and geographic location.\n",
        "- **Team Skill Assessment**: Team strengths are notable in areas of communication and problem-solving. However, skill gaps were identified in **cloud computing** and **machine learning** competencies.\n",
        "\n",
        "These findings provide a grounded view of current labor market expectations and highlight actionable areas for professional development.\n",
        "\n",
        "# 2. Future Directions\n",
        "\n",
        "Looking ahead, several strategic pathways emerge:\n",
        "\n",
        "- **Skill Development**: By implementing the personalized learning plans and focusing on closing the identified skill gaps, each member can substantially enhance their employability.\n",
        "- **Continuous Trend Monitoring**: Staying attuned to evolving industry demands will ensure alignment between skills and market needs over time.\n",
        "- **Scalability of Methods**: The analytic framework and techniques developed in this project are adaptable. They can be scaled to assist broader populations of job seekers and can be applied to a variety of career planning and workforce development scenarios.\n",
        "\n",
        "Overall, this project demonstrates a robust approach to data-driven career readiness evaluation, setting a strong foundation for future strategic personal development."
      ],
      "id": "6cfa7441"
    },
    {
      "cell_type": "markdown",
      "metadata": {},
      "source": [
        "---\n"
      ],
      "id": "dbbf7097"
    }
  ],
  "metadata": {
    "kernelspec": {
      "name": "python3",
      "language": "python",
      "display_name": "Python 3 (ipykernel)"
    }
  },
  "nbformat": 4,
  "nbformat_minor": 5
}