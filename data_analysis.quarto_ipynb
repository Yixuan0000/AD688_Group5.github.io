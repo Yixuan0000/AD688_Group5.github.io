{
  "cells": [
    {
      "cell_type": "markdown",
      "metadata": {},
      "source": [
        "---\n",
        "title: \"Data Analysis\"\n",
        "subtitle: \"Comprehensive Data Cleaning & Exploratory Analysis of Job Market Trends\"\n",
        "author:\n",
        "  - name: Yixuan Yang\n",
        "    affiliations:\n",
        "      - id: bu\n",
        "        name: Boston University\n",
        "        city: Boston\n",
        "        state: MA\n",
        "  - name: Arohit Talari\n",
        "    affiliations:\n",
        "      - ref: bu\n",
        "  - name: Chengjie Lu\n",
        "    affiliations:\n",
        "      - ref: bu\n",
        "\n",
        "bibliography: references.bib\n",
        "csl: csl/econometrica.csl\n",
        "format: \n",
        "  html:\n",
        "    toc: true\n",
        "    number-sections: true\n",
        "    df-print: paged\n",
        "    code: false\n",
        "    code-tools: true\n",
        "    section-divs: true\n",
        "---\n",
        "\n",
        "\n",
        "\n",
        "# Data Preparation and Cleaning \n"
      ],
      "id": "6b152e20"
    },
    {
      "cell_type": "code",
      "metadata": {},
      "source": [
        "#| echo: false\n",
        "import pandas as pd\n",
        "import seaborn as sns\n",
        "import matplotlib.pyplot as plt\n",
        "import plotly.express as px\n",
        "import plotly.offline as pyo\n",
        "import plotly.io as pio"
      ],
      "id": "43e4d6b7",
      "execution_count": null,
      "outputs": []
    },
    {
      "cell_type": "code",
      "metadata": {},
      "source": [
        "#| echo: false\n",
        "data = pd.read_csv(\"files/lightcast_job_postings.csv\")"
      ],
      "id": "9f845e03",
      "execution_count": null,
      "outputs": []
    },
    {
      "cell_type": "code",
      "metadata": {},
      "source": [
        "#| echo: false\n",
        "columns_to_drop = [\n",
        "   \"ID\", \"URL\", \"ACTIVE_URLS\", \"DUPLICATES\", \"LAST_UPDATED_TIMESTAMP\",\n",
        "    \"NAICS2\", \"NAICS3\", \"NAICS4\", \"NAICS5\", \"NAICS6\",\n",
        "    \"SOC_2\", \"SOC_2_NAME\", \"SOC_3\", \"SOC_3_NAME\", \"SOC_4\", \"SOC_4_NAME\", \"SOC_5\", \"SOC_5_NAME\", \"SOC_2021_2\", \"SOC_2021_2_NAME\", \"SOC_2021_3\", \"SOC_2021_3_NAME\", \"SOC_2021_5\", \"SOC_2021_5_NAME\",\n",
        "    'NAICS_2022_2', 'NAICS_2022_2_NAME', 'NAICS_2022_3',\n",
        "       'NAICS_2022_3_NAME', 'NAICS_2022_4', 'NAICS_2022_4_NAME','NAICS_2022_5', 'NAICS_2022_5_NAME', 'SOC_2_NAME', 'SOC_3_NAME', 'SOC_4', 'SOC_4_NAME', 'SOC_5_NAME'\n",
        "]\n",
        "data_drop = data.drop(columns=columns_to_drop)"
      ],
      "id": "f471f806",
      "execution_count": null,
      "outputs": []
    },
    {
      "cell_type": "code",
      "metadata": {},
      "source": [
        "#| echo: false\n",
        "#pd.set_option('display.max_rows', None)\n",
        "#pd.set_option('display.max_columns', None)\n",
        "#data_drop.columns"
      ],
      "id": "12dc417e",
      "execution_count": null,
      "outputs": []
    },
    {
      "cell_type": "code",
      "metadata": {},
      "source": [
        "#| echo: false\n",
        "#Replace salary with median\n",
        "salary_median = data_drop['SALARY'].median()\n",
        "salary_to_median = data_drop['SALARY_TO'].median()\n",
        "salary_from_median = data_drop['SALARY_FROM'].median()\n",
        "data_drop['SALARY'] = data_drop['SALARY'].fillna(salary_median)\n",
        "data_drop['SALARY_TO'] = data_drop['SALARY_TO'].fillna(salary_to_median)\n",
        "data_drop['SALARY_FROM'] = data_drop['SALARY_FROM'].fillna(salary_from_median)"
      ],
      "id": "167335b7",
      "execution_count": null,
      "outputs": []
    },
    {
      "cell_type": "code",
      "metadata": {},
      "source": [
        "#| echo: false\n",
        "#Replace NA Values with 0 and -1\n",
        "data_drop['MIN_YEARS_EXPERIENCE'] = data_drop['MIN_YEARS_EXPERIENCE'].fillna(0)\n",
        "data_drop['DURATION'] = data_drop['DURATION'].fillna(-1)\n",
        "data_drop['MODELED_DURATION'] = data_drop['MODELED_DURATION'].fillna(-1)"
      ],
      "id": "780acbd5",
      "execution_count": null,
      "outputs": []
    },
    {
      "cell_type": "code",
      "metadata": {},
      "source": [
        "#| echo: false\n",
        "#Replace Missing Dates with Reasonable Values, and convert to date time format\n",
        "data_drop['POSTED'] = pd.to_datetime(data['POSTED'], errors='coerce')\n",
        "data_drop['EXPIRED'] = pd.to_datetime(data['EXPIRED'], errors='coerce')\n",
        "data_drop['LAST_UPDATED_DATE'] = pd.to_datetime(data['LAST_UPDATED_DATE'], errors='coerce')\n",
        "data_drop['MODELED_EXPIRED'] = pd.to_datetime(data_drop['MODELED_EXPIRED'], errors='coerce')\n",
        "\n",
        "data_drop['EXPIRED'] = data_drop['EXPIRED'].fillna(pd.to_datetime('2100-12-31'))\n",
        "data_drop['MODELED_EXPIRED'] = data_drop['MODELED_EXPIRED'].fillna(pd.to_datetime('2100-12-31'))"
      ],
      "id": "9cc0bbe9",
      "execution_count": null,
      "outputs": []
    },
    {
      "cell_type": "code",
      "metadata": {},
      "source": [
        "#| echo: false\n",
        "#Handle the remaining missing values\n",
        "string_cols = data_drop.select_dtypes(include='object').columns\n",
        "data_drop[string_cols] = data_drop[string_cols].fillna(\"Unknown\")\n",
        "\n",
        "numeric_cols = data_drop.select_dtypes(include=['float64', 'int64']).columns\n",
        "data_drop[numeric_cols] = data_drop[numeric_cols].fillna(0)"
      ],
      "id": "3cfc3590",
      "execution_count": null,
      "outputs": []
    },
    {
      "cell_type": "code",
      "metadata": {},
      "source": [
        "#| echo: false\n",
        "data_drop.isna().sum()"
      ],
      "id": "8da58c42",
      "execution_count": null,
      "outputs": []
    },
    {
      "cell_type": "code",
      "metadata": {},
      "source": [
        "#| echo: false\n",
        "#Remove Duplicates\n",
        "data_cleaned = data_drop.drop_duplicates(subset=[\"TITLE\", \"COMPANY\", \"LOCATION\", \"POSTED\"], keep=\"first\")"
      ],
      "id": "ed617391",
      "execution_count": null,
      "outputs": []
    },
    {
      "cell_type": "markdown",
      "metadata": {},
      "source": [
        "# Data Visualization\n"
      ],
      "id": "18bb41aa"
    },
    {
      "cell_type": "code",
      "metadata": {},
      "source": [
        "#| echo: false\n",
        "industry_counts = data_cleaned[\"NAICS_2022_6_NAME\"].value_counts().head(11).reset_index()\n",
        "industry_counts.columns = ['Industry', 'Count']\n",
        "industry_counts = industry_counts[industry_counts['Industry'] != 'Unclassified Industry']\n",
        "\n",
        "fig = px.bar(industry_counts, x='Industry', y='Count', title=\"Top 10 Job Postings by Industry\")\n",
        "fig.update_layout(xaxis_tickangle=45, height=800, margin=dict(b=200))\n",
        "fig.write_html(\"industry_plot.html\")"
      ],
      "id": "90c0d926",
      "execution_count": null,
      "outputs": []
    },
    {
      "cell_type": "markdown",
      "metadata": {},
      "source": [
        "<iframe src=\"industry_plot.html\" width=\"100%\" height=\"500\"></iframe>\n"
      ],
      "id": "87b860fd"
    },
    {
      "cell_type": "code",
      "metadata": {},
      "source": [
        "#| echo: false\n",
        "print(\"The bar plot is used to display the top 10 highest number of job posting industries. \\nThe graph shows that computer related services are standing out, management services and employment placement agencies also have double the amount of job postings than others in this category.\")"
      ],
      "id": "0984ea60",
      "execution_count": null,
      "outputs": []
    },
    {
      "cell_type": "code",
      "metadata": {},
      "source": [
        "#| echo: false\n",
        "fig = px.box(data_cleaned, x='NAICS_2022_6_NAME', y='SALARY', title=\"Salary Distribution by Industry\")\n",
        "fig.update_layout(xaxis_tickangle=45, height=800, margin=dict(b=200))\n",
        "fig.write_html(\"salary_distribution_plot.html\")"
      ],
      "id": "f0745a20",
      "execution_count": null,
      "outputs": []
    },
    {
      "cell_type": "markdown",
      "metadata": {},
      "source": [
        "<iframe src=\"salary_distribution_plot.html\" width=\"100%\" height=\"500\"></iframe>\n"
      ],
      "id": "6a4f61f1"
    },
    {
      "cell_type": "code",
      "metadata": {},
      "source": [
        "#| echo: false\n",
        "print(\"The box plot shows the salary distribution across various industries. It helps visualize the variation in salaries within each industry and identify industries with the highest salary ranges.\")"
      ],
      "id": "9f9fe12d",
      "execution_count": null,
      "outputs": []
    },
    {
      "cell_type": "code",
      "metadata": {},
      "source": [
        "#| echo: false\n",
        "# Remote vs. On-Site Jobs (Pie Chart)\n",
        "remote_jobs = data_cleaned['REMOTE_TYPE_NAME'].value_counts()\n",
        "fig = px.pie(values=remote_jobs, names=remote_jobs.index, title=\"Remote vs. On-Site Jobs\")\n",
        "fig.write_html(\"remote_vs_onsite_plot.html\")"
      ],
      "id": "67c0672d",
      "execution_count": null,
      "outputs": []
    },
    {
      "cell_type": "markdown",
      "metadata": {},
      "source": [
        "<iframe src=\"remote_vs_onsite_plot.html\" width=\"100%\" height=\"500\"></iframe>\n"
      ],
      "id": "aabda0cf"
    },
    {
      "cell_type": "code",
      "metadata": {},
      "source": [
        "#| echo: false\n",
        "print(\"The pie chart shows the distribution of remote and on-site job postings. This helps in understanding the current trends in remote work opportunities in the job market.\")"
      ],
      "id": "206dc298",
      "execution_count": null,
      "outputs": []
    }
  ],
  "metadata": {
    "kernelspec": {
      "name": "python3",
      "language": "python",
      "display_name": "Python 3 (ipykernel)",
      "path": "/Applications/anaconda3/share/jupyter/kernels/python3"
    }
  },
  "nbformat": 4,
  "nbformat_minor": 5
}